{
 "cells": [
  {
   "cell_type": "code",
   "execution_count": null,
   "metadata": {
    "pycharm": {
     "name": "#%%\n"
    }
   },
   "outputs": [],
   "source": []
  },
  {
   "cell_type": "code",
   "execution_count": 17,
   "metadata": {
    "pycharm": {
     "name": "#%%\n"
    }
   },
   "outputs": [],
   "source": [
    "import pandas as pd"
   ]
  },
  {
   "cell_type": "code",
   "execution_count": 22,
   "metadata": {},
   "outputs": [],
   "source": [
    "df_temp =  pd.read_parquet(\"dota_professional_heroes.parquet\")"
   ]
  },
  {
   "cell_type": "code",
   "execution_count": 23,
   "metadata": {
    "pycharm": {
     "name": "#%%\n"
    }
   },
   "outputs": [
    {
     "data": {
      "text/html": [
       "<div>\n",
       "<style scoped>\n",
       "    .dataframe tbody tr th:only-of-type {\n",
       "        vertical-align: middle;\n",
       "    }\n",
       "\n",
       "    .dataframe tbody tr th {\n",
       "        vertical-align: top;\n",
       "    }\n",
       "\n",
       "    .dataframe thead th {\n",
       "        text-align: right;\n",
       "    }\n",
       "</style>\n",
       "<table border=\"1\" class=\"dataframe\">\n",
       "  <thead>\n",
       "    <tr style=\"text-align: right;\">\n",
       "      <th></th>\n",
       "      <th>Dire Heroes</th>\n",
       "      <th>Dire Players</th>\n",
       "      <th>Match ID</th>\n",
       "      <th>Radian Players</th>\n",
       "      <th>Radiant Heroes</th>\n",
       "    </tr>\n",
       "  </thead>\n",
       "  <tbody>\n",
       "    <tr>\n",
       "      <th>0</th>\n",
       "      <td>[ursa, disruptor, queenofpain, phoenix, rattle...</td>\n",
       "      <td>[V-Tune, ALWAYSWANNAFLY, Iceberg, RodjER, Gene...</td>\n",
       "      <td>5857415725</td>\n",
       "      <td>[Nightfall, Gpk, DM, Save-, Kingslayer]</td>\n",
       "      <td>[monkey_king, deathprophet, shredder, lion, or...</td>\n",
       "    </tr>\n",
       "  </tbody>\n",
       "</table>\n",
       "</div>"
      ],
      "text/plain": [
       "                                         Dire Heroes  \\\n",
       "0  [ursa, disruptor, queenofpain, phoenix, rattle...   \n",
       "\n",
       "                                        Dire Players    Match ID  \\\n",
       "0  [V-Tune, ALWAYSWANNAFLY, Iceberg, RodjER, Gene...  5857415725   \n",
       "\n",
       "                            Radian Players  \\\n",
       "0  [Nightfall, Gpk, DM, Save-, Kingslayer]   \n",
       "\n",
       "                                      Radiant Heroes  \n",
       "0  [monkey_king, deathprophet, shredder, lion, or...  "
      ]
     },
     "execution_count": 23,
     "metadata": {},
     "output_type": "execute_result"
    }
   ],
   "source": [
    "df_temp"
   ]
  }
 ],
 "metadata": {
  "kernelspec": {
   "display_name": "Python 3 (ipykernel)",
   "language": "python",
   "name": "python3"
  },
  "language_info": {
   "codemirror_mode": {
    "name": "ipython",
    "version": 3
   },
   "file_extension": ".py",
   "mimetype": "text/x-python",
   "name": "python",
   "nbconvert_exporter": "python",
   "pygments_lexer": "ipython3",
   "version": "3.9.7"
  }
 },
 "nbformat": 4,
 "nbformat_minor": 1
}
