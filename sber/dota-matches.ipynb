{
 "cells": [
  {
   "cell_type": "markdown",
   "source": [
    "# DATA\n",
    "## Description\n",
    "\n",
    "Как первое приближение, собираем данные для premium и professional лиг dota 2\n",
    "\n",
    "Раньше соревнования делились на 4 типа:\n",
    "1. Premier -- международные соревнования, с типичным призовым фондом от 300,000 USD\n",
    "2. Major -- от 50,000 USD -- лучшие команды всё ещё принимают участие\n",
    "3. Minor -- от 3000 USD -- менее престижные, но с большой конкуренцией\n",
    "4. Остальные\n",
    "\n",
    "Но Valve отказался от этой системы в не так давно, поэтому соберём данные для примерное первых трех тиров, которые разделим на premium и professional. Так в выборку не попадут любители, а все основные турниры будут покрыты.\n",
    "\n",
    "Для двух профессиональных лиг соберём все матчи за последний год -- между the international 2021 и the international 2020 -- главными турнирами в dota 2, которыми заканчивается любой сезон.\n",
    "\n",
    "Для премиум лиги получим приблизительно 2000 игр между командами, однако в рамках встречи на одном турнире две команды могут сыграть несколько игр друг с другом (от 3 до 5), поэтому количество уникальных встреч будет в несколько раз меньше\n",
    "\n",
    "для профессиональной лиги соберём примерно 5000 игр за тот же промежуток\n",
    "\n",
    "Так же для каждой встречи соберём состав игроков и героев, за которых они играли ― в каждой команде по 5 игроков, в матче принимают участие 2 команды. Состав команды относительно стабилен в течение сезона, однако игроки свободно могут переходить между командами в трансферное окно, которое открыто весь год, за исключением месяца, в который проходит the International\n",
    "\n",
    "В каждом матче каждый игрок выбирает героя, которым управляет в течении матча. Игроки могут лучше играть на определенных героях, однако почти каждый матч композиция меняется, так как обе команды выбирают героев поочерёдно.\n",
    "\n",
    "\n",
    "финальный вид датасета\n",
    "\n",
    "| Турнир            | дата матча | команда 1 | команда 2   | победитель                | составы                     | герои              |\n",
    "|-------------------|------------|-----------|-------------|---------------------------|-----------------------------|--------------------|\n",
    "| The International | 2021-10-17 |  PSG.LGD  | Team Spirit | Team Spirit               | [ Yatoro,  TORONTOTOKYO...] | [Magnus, Bane ...] |\n",
    "| DPC Winter 21 League (EU) presented by DreamLeague         | 2021-01-18 | Alliance | Liquid      | Alliance |  [MATUMBAMAN, miCKe, ...]   | [Lion, Tidehunter,  ...]    |\n",
    "\n",
    "\n",
    "Структура данных:\n",
    "\n",
    "dota_premium_minimal.parquet -- матчи premium лига\n",
    "\n",
    "dota_professional_minimal.parquet -- мачти professional лига\n",
    "\n",
    "datdota_Leagues.csv\" -- названия турниров, объединяем с матчами по Series\n",
    "\n",
    "dota_macthes -- имена спортсменов и выбранные герои, объединяем с матчами по Match ID. Так же внутри много дополнительных характеристик, например убийства, смерти и опыт"
   ],
   "metadata": {
    "collapsed": false,
    "pycharm": {
     "name": "#%% md\n"
    }
   }
  },
  {
   "cell_type": "markdown",
   "source": [
    "## Data collection"
   ],
   "metadata": {
    "collapsed": false,
    "pycharm": {
     "name": "#%% md\n"
    }
   }
  },
  {
   "cell_type": "code",
   "execution_count": 1,
   "metadata": {
    "collapsed": true
   },
   "outputs": [],
   "source": [
    "import requests\n",
    "from bs4 import BeautifulSoup\n",
    "\n",
    "import pandas as pd\n",
    "import time"
   ]
  },
  {
   "cell_type": "markdown",
   "source": [
    "## premium"
   ],
   "metadata": {
    "collapsed": false,
    "pycharm": {
     "name": "#%% md\n"
    }
   }
  },
  {
   "cell_type": "code",
   "execution_count": 4,
   "outputs": [],
   "source": [
    "URL = \"https://www.datdota.com/matches?tier=premium\"\n",
    "page = requests.get(URL)\n",
    "\n",
    "soup = BeautifulSoup(page.content, \"html.parser\")"
   ],
   "metadata": {
    "collapsed": false,
    "pycharm": {
     "name": "#%%\n"
    }
   }
  },
  {
   "cell_type": "code",
   "execution_count": 15,
   "outputs": [],
   "source": [
    "data = []\n",
    "table = soup.find('table')\n",
    "table_body = table.find('tbody')\n",
    "rows = table_body.find_all('tr')\n",
    "for row in rows:\n",
    "    cols = row.find_all('td')\n",
    "    cols = [ele.text.strip() for ele in cols]\n",
    "    data.append([ele for ele in cols if ele]) # Get rid of empty values"
   ],
   "metadata": {
    "collapsed": false,
    "pycharm": {
     "name": "#%%\n"
    }
   }
  },
  {
   "cell_type": "code",
   "execution_count": 30,
   "outputs": [
    {
     "data": {
      "text/plain": "        Match ID  Series League    Start Date/Time Match Length  \\\n0     6293408192  619517  13725  26 Nov 2021 07:30        51:19   \n1     6293396000  619513  13725  26 Nov 2021 07:22        50:51   \n2     6293297950  619485  13725  26 Nov 2021 06:15        46:52   \n3     6293285430  619481  13725  26 Nov 2021 06:07        40:59   \n4     6293248016  619467  13725  26 Nov 2021 05:43        39:09   \n...          ...     ...    ...                ...          ...   \n4995  4779722555  331595  10979  24 May 2019 03:48        29:54   \n4996  4779424867  331559  10979  24 May 2019 02:03        52:26   \n4997  4779407768  331560  10979  24 May 2019 01:56        42:48   \n4998  4779285288  331560  10979  24 May 2019 01:00        30:38   \n4999  4779285133  331559  10979  24 May 2019 01:03        35:09   \n\n     Duration (secs) Kills Score Unnamed: 7   Winner         Radiant Team  \\\n0               3079       32-30      32,30  Radiant            cybercats   \n1               3051       32-32      32,32     Dire                HYDRA   \n2               2812       14-36      14,36     Dire              Miaww^^   \n3               2459       32-34      32,34     Dire               YNGBLD   \n4               2349       34-16      34,16  Radiant            cybercats   \n...              ...         ...        ...      ...                  ...   \n4995            1794       25-13      25,13  Radiant    Ninjas in Pyjamas   \n4996            3146       29-33      29,33  Radiant    Ninjas in Pyjamas   \n4997            2568       55-29      55,29  Radiant             Alliance   \n4998            1838        7-29       7,29     Dire  Aachen City Esports   \n4999            2109       11-35      11,35     Dire      The Final Tribe   \n\n                                      Radiant Players            Dire Team  \\\n0          Airu, Petru44o, USHUSHUSH, Fezor, Shigetsu             V-Gaming   \n1               Zayac, Askold, Blizzy, Dream`, Le don            label bmd   \n2     Kidaro, nattynarwhal_, Antares, Ga1k, DarkLord^             V-Gaming   \n3            Otaker, xxx, Volshebnik, TheSpeedy, Fill            label bmd   \n4          Airu, Petru44o, USHUSHUSH, Fezor, Shigetsu        Legion Gaming   \n...                                               ...                  ...   \n4995                        33, Ppd, Fata, Ace, Saksa             Alliance   \n4996                        33, Ppd, Fata, Ace, Saksa      The Final Tribe   \n4997              INSaNiA, Boxi, Qojqva, MiCKe, Taiga  Aachen City Esports   \n4998           LeBronDota, DM, Ecnart, Funn1k, V-Tune             Alliance   \n4999             Handsken, Xibbe, Era, Frost, Chessie    Ninjas in Pyjamas   \n\n                                         Dire Players  \n0              Naive-, ArrOw, destroyed, antoha, HAze  \n1              myart, discay, fam0us, Nicky`Cool , ri  \n2              Naive-, ArrOw, destroyed, antoha, HAze  \n3              myart, discay, fam0us, Nicky`Cool , ri  \n4     baxadoto, kur0patbI4, Aliback, HardL, Overkill~  \n...                                               ...  \n4995              INSaNiA, Boxi, Qojqva, MiCKe, Taiga  \n4996             Handsken, Xibbe, Era, Frost, Chessie  \n4997           LeBronDota, DM, Ecnart, Funn1k, V-Tune  \n4998              INSaNiA, Boxi, Qojqva, MiCKe, Taiga  \n4999                        33, Ppd, Fata, Ace, Saksa  \n\n[5000 rows x 13 columns]",
      "text/html": "<div>\n<style scoped>\n    .dataframe tbody tr th:only-of-type {\n        vertical-align: middle;\n    }\n\n    .dataframe tbody tr th {\n        vertical-align: top;\n    }\n\n    .dataframe thead th {\n        text-align: right;\n    }\n</style>\n<table border=\"1\" class=\"dataframe\">\n  <thead>\n    <tr style=\"text-align: right;\">\n      <th></th>\n      <th>Match ID</th>\n      <th>Series</th>\n      <th>League</th>\n      <th>Start Date/Time</th>\n      <th>Match Length</th>\n      <th>Duration (secs)</th>\n      <th>Kills Score</th>\n      <th>Unnamed: 7</th>\n      <th>Winner</th>\n      <th>Radiant Team</th>\n      <th>Radiant Players</th>\n      <th>Dire Team</th>\n      <th>Dire Players</th>\n    </tr>\n  </thead>\n  <tbody>\n    <tr>\n      <th>0</th>\n      <td>6293408192</td>\n      <td>619517</td>\n      <td>13725</td>\n      <td>26 Nov 2021 07:30</td>\n      <td>51:19</td>\n      <td>3079</td>\n      <td>32-30</td>\n      <td>32,30</td>\n      <td>Radiant</td>\n      <td>cybercats</td>\n      <td>Airu, Petru44o, USHUSHUSH, Fezor, Shigetsu</td>\n      <td>V-Gaming</td>\n      <td>Naive-, ArrOw, destroyed, antoha, HAze</td>\n    </tr>\n    <tr>\n      <th>1</th>\n      <td>6293396000</td>\n      <td>619513</td>\n      <td>13725</td>\n      <td>26 Nov 2021 07:22</td>\n      <td>50:51</td>\n      <td>3051</td>\n      <td>32-32</td>\n      <td>32,32</td>\n      <td>Dire</td>\n      <td>HYDRA</td>\n      <td>Zayac, Askold, Blizzy, Dream`, Le don</td>\n      <td>label bmd</td>\n      <td>myart, discay, fam0us, Nicky`Cool , ri</td>\n    </tr>\n    <tr>\n      <th>2</th>\n      <td>6293297950</td>\n      <td>619485</td>\n      <td>13725</td>\n      <td>26 Nov 2021 06:15</td>\n      <td>46:52</td>\n      <td>2812</td>\n      <td>14-36</td>\n      <td>14,36</td>\n      <td>Dire</td>\n      <td>Miaww^^</td>\n      <td>Kidaro, nattynarwhal_, Antares, Ga1k, DarkLord^</td>\n      <td>V-Gaming</td>\n      <td>Naive-, ArrOw, destroyed, antoha, HAze</td>\n    </tr>\n    <tr>\n      <th>3</th>\n      <td>6293285430</td>\n      <td>619481</td>\n      <td>13725</td>\n      <td>26 Nov 2021 06:07</td>\n      <td>40:59</td>\n      <td>2459</td>\n      <td>32-34</td>\n      <td>32,34</td>\n      <td>Dire</td>\n      <td>YNGBLD</td>\n      <td>Otaker, xxx, Volshebnik, TheSpeedy, Fill</td>\n      <td>label bmd</td>\n      <td>myart, discay, fam0us, Nicky`Cool , ri</td>\n    </tr>\n    <tr>\n      <th>4</th>\n      <td>6293248016</td>\n      <td>619467</td>\n      <td>13725</td>\n      <td>26 Nov 2021 05:43</td>\n      <td>39:09</td>\n      <td>2349</td>\n      <td>34-16</td>\n      <td>34,16</td>\n      <td>Radiant</td>\n      <td>cybercats</td>\n      <td>Airu, Petru44o, USHUSHUSH, Fezor, Shigetsu</td>\n      <td>Legion Gaming</td>\n      <td>baxadoto, kur0patbI4, Aliback, HardL, Overkill~</td>\n    </tr>\n    <tr>\n      <th>...</th>\n      <td>...</td>\n      <td>...</td>\n      <td>...</td>\n      <td>...</td>\n      <td>...</td>\n      <td>...</td>\n      <td>...</td>\n      <td>...</td>\n      <td>...</td>\n      <td>...</td>\n      <td>...</td>\n      <td>...</td>\n      <td>...</td>\n    </tr>\n    <tr>\n      <th>4995</th>\n      <td>4779722555</td>\n      <td>331595</td>\n      <td>10979</td>\n      <td>24 May 2019 03:48</td>\n      <td>29:54</td>\n      <td>1794</td>\n      <td>25-13</td>\n      <td>25,13</td>\n      <td>Radiant</td>\n      <td>Ninjas in Pyjamas</td>\n      <td>33, Ppd, Fata, Ace, Saksa</td>\n      <td>Alliance</td>\n      <td>INSaNiA, Boxi, Qojqva, MiCKe, Taiga</td>\n    </tr>\n    <tr>\n      <th>4996</th>\n      <td>4779424867</td>\n      <td>331559</td>\n      <td>10979</td>\n      <td>24 May 2019 02:03</td>\n      <td>52:26</td>\n      <td>3146</td>\n      <td>29-33</td>\n      <td>29,33</td>\n      <td>Radiant</td>\n      <td>Ninjas in Pyjamas</td>\n      <td>33, Ppd, Fata, Ace, Saksa</td>\n      <td>The Final Tribe</td>\n      <td>Handsken, Xibbe, Era, Frost, Chessie</td>\n    </tr>\n    <tr>\n      <th>4997</th>\n      <td>4779407768</td>\n      <td>331560</td>\n      <td>10979</td>\n      <td>24 May 2019 01:56</td>\n      <td>42:48</td>\n      <td>2568</td>\n      <td>55-29</td>\n      <td>55,29</td>\n      <td>Radiant</td>\n      <td>Alliance</td>\n      <td>INSaNiA, Boxi, Qojqva, MiCKe, Taiga</td>\n      <td>Aachen City Esports</td>\n      <td>LeBronDota, DM, Ecnart, Funn1k, V-Tune</td>\n    </tr>\n    <tr>\n      <th>4998</th>\n      <td>4779285288</td>\n      <td>331560</td>\n      <td>10979</td>\n      <td>24 May 2019 01:00</td>\n      <td>30:38</td>\n      <td>1838</td>\n      <td>7-29</td>\n      <td>7,29</td>\n      <td>Dire</td>\n      <td>Aachen City Esports</td>\n      <td>LeBronDota, DM, Ecnart, Funn1k, V-Tune</td>\n      <td>Alliance</td>\n      <td>INSaNiA, Boxi, Qojqva, MiCKe, Taiga</td>\n    </tr>\n    <tr>\n      <th>4999</th>\n      <td>4779285133</td>\n      <td>331559</td>\n      <td>10979</td>\n      <td>24 May 2019 01:03</td>\n      <td>35:09</td>\n      <td>2109</td>\n      <td>11-35</td>\n      <td>11,35</td>\n      <td>Dire</td>\n      <td>The Final Tribe</td>\n      <td>Handsken, Xibbe, Era, Frost, Chessie</td>\n      <td>Ninjas in Pyjamas</td>\n      <td>33, Ppd, Fata, Ace, Saksa</td>\n    </tr>\n  </tbody>\n</table>\n<p>5000 rows × 13 columns</p>\n</div>"
     },
     "execution_count": 30,
     "metadata": {},
     "output_type": "execute_result"
    }
   ],
   "source": [
    "df_premium = pd.DataFrame(data, columns=['Match ID', 'Series', 'League',\n",
    "                                         'Start Date/Time', 'Match Length',\n",
    "    'Duration (secs)', 'Kills Score', 'Unnamed: 7', 'Winner',\n",
    "    'Radiant Team', 'Radiant Players', 'Dire Team', 'Dire Players'])\n",
    "df_premium"
   ],
   "metadata": {
    "collapsed": false,
    "pycharm": {
     "name": "#%%\n"
    }
   }
  },
  {
   "cell_type": "code",
   "execution_count": 31,
   "outputs": [],
   "source": [
    "df_premium.to_parquet('dota_premium_minimal.parquet')"
   ],
   "metadata": {
    "collapsed": false,
    "pycharm": {
     "name": "#%%\n"
    }
   }
  },
  {
   "cell_type": "markdown",
   "source": [
    "### professional"
   ],
   "metadata": {
    "collapsed": false,
    "pycharm": {
     "name": "#%% md\n"
    }
   }
  },
  {
   "cell_type": "code",
   "execution_count": 39,
   "outputs": [],
   "source": [
    "URL = \"https://www.datdota.com/matches?tier=professional\"\n",
    "page = requests.get(URL)\n",
    "\n",
    "soup = BeautifulSoup(page.content, \"html.parser\")"
   ],
   "metadata": {
    "collapsed": false,
    "pycharm": {
     "name": "#%%\n"
    }
   }
  },
  {
   "cell_type": "code",
   "execution_count": 40,
   "outputs": [],
   "source": [
    "data = []\n",
    "table = soup.find('table')\n",
    "table_body = table.find('tbody')\n",
    "rows = table_body.find_all('tr')\n",
    "for row in rows:\n",
    "    cols = row.find_all('td')\n",
    "    cols = [ele.text.strip() for ele in cols]\n",
    "    data.append([ele for ele in cols if ele]) # Get rid of empty values"
   ],
   "metadata": {
    "collapsed": false,
    "pycharm": {
     "name": "#%%\n"
    }
   }
  },
  {
   "cell_type": "code",
   "execution_count": 41,
   "outputs": [
    {
     "data": {
      "text/plain": "        Match ID  Series League    Start Date/Time Match Length  \\\n0     6292119239  619084  13379  25 Nov 2021 10:19        33:50   \n1     6292041530  619084  13379  25 Nov 2021 09:02        38:32   \n2     6291972971  619084  13379  25 Nov 2021 08:04        29:09   \n3     6291891317  619084  13379  25 Nov 2021 07:01        38:01   \n4     6291811058  619084  13379  25 Nov 2021 06:00        31:33   \n...          ...     ...    ...                ...          ...   \n4995  5583982350  474768  12229  25 Aug 2020 10:13        49:03   \n4996  5583922861  474750  12229  25 Aug 2020 09:04        28:50   \n4997  5583863565  474750  12229  25 Aug 2020 08:00        28:07   \n4998  5583629438  474697  12245  25 Aug 2020 02:28        47:33   \n4999  5583577665  474697  12245  25 Aug 2020 01:20        45:13   \n\n     Duration (secs) Kills Score Unnamed: 7   Winner   Radiant Team  \\\n0               2030       10-26      10,26     Dire         Entity   \n1               2312       46-25      46,25  Radiant         Entity   \n2               1749       27-16      27,16  Radiant    HellRaisers   \n3               2281       27-24      27,24  Radiant         Entity   \n4               1893       20-13      20,13  Radiant    HellRaisers   \n...              ...         ...        ...      ...            ...   \n4995            2943       20-26      20,26     Dire    Aster.Aries   \n4996            1730       24-12      24,12  Radiant             T1   \n4997            1687       24-11      24,11  Radiant             T1   \n4998            2853       29-32      29,32  Radiant  Boonz + Goonz   \n4999            2713       36-18      36,18  Radiant  Boonz + Goonz   \n\n                                        Radiant Players     Dire Team  \\\n0       Stormstormer, Fishman, Crystallis, Tobi, suzuya   HellRaisers   \n1       Stormstormer, Fishman, Crystallis, Tobi, suzuya   HellRaisers   \n2     Malady.LFT, Время в никуда, watson;,.', Gilgir...        Entity   \n3       Stormstormer, Fishman, Crystallis, Tobi, suzuya   HellRaisers   \n4     Malady.LFT, Время в никуда, watson;,.', Gilgir...        Entity   \n...                                                 ...           ...   \n4995               Rico, harutya, Lww, ShengSi, phoenix      Geek Fam   \n4996       Poloson, Meracle, Jhocam, InYourdreaM, Sam H  QuestionMark   \n4997       Poloson, Meracle, Jhocam, InYourdreaM, Sam H  QuestionMark   \n4998            Monster, Lordboonz, RRL, Froogoss, Yuma          PACE   \n4999            Monster, Lordboonz, RRL, Froogoss, Yuma          PACE   \n\n                                           Dire Players  \n0     Malady.LFT, Время в никуда, watson;,.', Gilgir...  \n1     Malady.LFT, Время в никуда, watson;,.', Gilgir...  \n2       Stormstormer, Fishman, Crystallis, Tobi, suzuya  \n3     Malady.LFT, Время в никуда, watson;,.', Gilgir...  \n4       Stormstormer, Fishman, Crystallis, Tobi, suzuya  \n...                                                 ...  \n4995                 Karl, Xepher, Whitemon, Abed, Kuku  \n4996          LionaX, MyPro, Kanom``Pang, Leaf, MikaeL~  \n4997          LionaX, MyPro, Kanom``Pang, Leaf, MikaeL~  \n4998              talianoG, Aikster, Lies, Stars, Deano  \n4999              talianoG, Aikster, Lies, Stars, Deano  \n\n[5000 rows x 13 columns]",
      "text/html": "<div>\n<style scoped>\n    .dataframe tbody tr th:only-of-type {\n        vertical-align: middle;\n    }\n\n    .dataframe tbody tr th {\n        vertical-align: top;\n    }\n\n    .dataframe thead th {\n        text-align: right;\n    }\n</style>\n<table border=\"1\" class=\"dataframe\">\n  <thead>\n    <tr style=\"text-align: right;\">\n      <th></th>\n      <th>Match ID</th>\n      <th>Series</th>\n      <th>League</th>\n      <th>Start Date/Time</th>\n      <th>Match Length</th>\n      <th>Duration (secs)</th>\n      <th>Kills Score</th>\n      <th>Unnamed: 7</th>\n      <th>Winner</th>\n      <th>Radiant Team</th>\n      <th>Radiant Players</th>\n      <th>Dire Team</th>\n      <th>Dire Players</th>\n    </tr>\n  </thead>\n  <tbody>\n    <tr>\n      <th>0</th>\n      <td>6292119239</td>\n      <td>619084</td>\n      <td>13379</td>\n      <td>25 Nov 2021 10:19</td>\n      <td>33:50</td>\n      <td>2030</td>\n      <td>10-26</td>\n      <td>10,26</td>\n      <td>Dire</td>\n      <td>Entity</td>\n      <td>Stormstormer, Fishman, Crystallis, Tobi, suzuya</td>\n      <td>HellRaisers</td>\n      <td>Malady.LFT, Время в никуда, watson;,.', Gilgir...</td>\n    </tr>\n    <tr>\n      <th>1</th>\n      <td>6292041530</td>\n      <td>619084</td>\n      <td>13379</td>\n      <td>25 Nov 2021 09:02</td>\n      <td>38:32</td>\n      <td>2312</td>\n      <td>46-25</td>\n      <td>46,25</td>\n      <td>Radiant</td>\n      <td>Entity</td>\n      <td>Stormstormer, Fishman, Crystallis, Tobi, suzuya</td>\n      <td>HellRaisers</td>\n      <td>Malady.LFT, Время в никуда, watson;,.', Gilgir...</td>\n    </tr>\n    <tr>\n      <th>2</th>\n      <td>6291972971</td>\n      <td>619084</td>\n      <td>13379</td>\n      <td>25 Nov 2021 08:04</td>\n      <td>29:09</td>\n      <td>1749</td>\n      <td>27-16</td>\n      <td>27,16</td>\n      <td>Radiant</td>\n      <td>HellRaisers</td>\n      <td>Malady.LFT, Время в никуда, watson;,.', Gilgir...</td>\n      <td>Entity</td>\n      <td>Stormstormer, Fishman, Crystallis, Tobi, suzuya</td>\n    </tr>\n    <tr>\n      <th>3</th>\n      <td>6291891317</td>\n      <td>619084</td>\n      <td>13379</td>\n      <td>25 Nov 2021 07:01</td>\n      <td>38:01</td>\n      <td>2281</td>\n      <td>27-24</td>\n      <td>27,24</td>\n      <td>Radiant</td>\n      <td>Entity</td>\n      <td>Stormstormer, Fishman, Crystallis, Tobi, suzuya</td>\n      <td>HellRaisers</td>\n      <td>Malady.LFT, Время в никуда, watson;,.', Gilgir...</td>\n    </tr>\n    <tr>\n      <th>4</th>\n      <td>6291811058</td>\n      <td>619084</td>\n      <td>13379</td>\n      <td>25 Nov 2021 06:00</td>\n      <td>31:33</td>\n      <td>1893</td>\n      <td>20-13</td>\n      <td>20,13</td>\n      <td>Radiant</td>\n      <td>HellRaisers</td>\n      <td>Malady.LFT, Время в никуда, watson;,.', Gilgir...</td>\n      <td>Entity</td>\n      <td>Stormstormer, Fishman, Crystallis, Tobi, suzuya</td>\n    </tr>\n    <tr>\n      <th>...</th>\n      <td>...</td>\n      <td>...</td>\n      <td>...</td>\n      <td>...</td>\n      <td>...</td>\n      <td>...</td>\n      <td>...</td>\n      <td>...</td>\n      <td>...</td>\n      <td>...</td>\n      <td>...</td>\n      <td>...</td>\n      <td>...</td>\n    </tr>\n    <tr>\n      <th>4995</th>\n      <td>5583982350</td>\n      <td>474768</td>\n      <td>12229</td>\n      <td>25 Aug 2020 10:13</td>\n      <td>49:03</td>\n      <td>2943</td>\n      <td>20-26</td>\n      <td>20,26</td>\n      <td>Dire</td>\n      <td>Aster.Aries</td>\n      <td>Rico, harutya, Lww, ShengSi, phoenix</td>\n      <td>Geek Fam</td>\n      <td>Karl, Xepher, Whitemon, Abed, Kuku</td>\n    </tr>\n    <tr>\n      <th>4996</th>\n      <td>5583922861</td>\n      <td>474750</td>\n      <td>12229</td>\n      <td>25 Aug 2020 09:04</td>\n      <td>28:50</td>\n      <td>1730</td>\n      <td>24-12</td>\n      <td>24,12</td>\n      <td>Radiant</td>\n      <td>T1</td>\n      <td>Poloson, Meracle, Jhocam, InYourdreaM, Sam H</td>\n      <td>QuestionMark</td>\n      <td>LionaX, MyPro, Kanom``Pang, Leaf, MikaeL~</td>\n    </tr>\n    <tr>\n      <th>4997</th>\n      <td>5583863565</td>\n      <td>474750</td>\n      <td>12229</td>\n      <td>25 Aug 2020 08:00</td>\n      <td>28:07</td>\n      <td>1687</td>\n      <td>24-11</td>\n      <td>24,11</td>\n      <td>Radiant</td>\n      <td>T1</td>\n      <td>Poloson, Meracle, Jhocam, InYourdreaM, Sam H</td>\n      <td>QuestionMark</td>\n      <td>LionaX, MyPro, Kanom``Pang, Leaf, MikaeL~</td>\n    </tr>\n    <tr>\n      <th>4998</th>\n      <td>5583629438</td>\n      <td>474697</td>\n      <td>12245</td>\n      <td>25 Aug 2020 02:28</td>\n      <td>47:33</td>\n      <td>2853</td>\n      <td>29-32</td>\n      <td>29,32</td>\n      <td>Radiant</td>\n      <td>Boonz + Goonz</td>\n      <td>Monster, Lordboonz, RRL, Froogoss, Yuma</td>\n      <td>PACE</td>\n      <td>talianoG, Aikster, Lies, Stars, Deano</td>\n    </tr>\n    <tr>\n      <th>4999</th>\n      <td>5583577665</td>\n      <td>474697</td>\n      <td>12245</td>\n      <td>25 Aug 2020 01:20</td>\n      <td>45:13</td>\n      <td>2713</td>\n      <td>36-18</td>\n      <td>36,18</td>\n      <td>Radiant</td>\n      <td>Boonz + Goonz</td>\n      <td>Monster, Lordboonz, RRL, Froogoss, Yuma</td>\n      <td>PACE</td>\n      <td>talianoG, Aikster, Lies, Stars, Deano</td>\n    </tr>\n  </tbody>\n</table>\n<p>5000 rows × 13 columns</p>\n</div>"
     },
     "execution_count": 41,
     "metadata": {},
     "output_type": "execute_result"
    }
   ],
   "source": [
    "df_professional = pd.DataFrame(data, columns=['Match ID', 'Series', 'League',\n",
    "                                         'Start Date/Time', 'Match Length',\n",
    "                                         'Duration (secs)', 'Kills Score', 'Unnamed: 7', 'Winner',\n",
    "                                         'Radiant Team', 'Radiant Players', 'Dire Team', 'Dire Players'])\n",
    "df_professional"
   ],
   "metadata": {
    "collapsed": false,
    "pycharm": {
     "name": "#%%\n"
    }
   }
  },
  {
   "cell_type": "code",
   "execution_count": 42,
   "outputs": [],
   "source": [
    "df_professional.to_parquet(\"dota_professioanl_minimal.parquet\")"
   ],
   "metadata": {
    "collapsed": false,
    "pycharm": {
     "name": "#%%\n"
    }
   }
  },
  {
   "cell_type": "markdown",
   "source": [
    "### leagues"
   ],
   "metadata": {
    "collapsed": false,
    "pycharm": {
     "name": "#%% md\n"
    }
   }
  },
  {
   "cell_type": "code",
   "execution_count": null,
   "outputs": [],
   "source": [
    "## https://www.datdota.com/leagues\n",
    "df_leagues = pd.read_csv('datdota_Leagues.csv')"
   ],
   "metadata": {
    "collapsed": false,
    "pycharm": {
     "name": "#%%\n"
    }
   }
  },
  {
   "cell_type": "markdown",
   "source": [
    "## heroes"
   ],
   "metadata": {
    "collapsed": false,
    "pycharm": {
     "name": "#%% md\n"
    }
   }
  },
  {
   "cell_type": "code",
   "execution_count": 63,
   "outputs": [
    {
     "data": {
      "text/plain": "        Match ID  Series League    Start Date/Time Match Length  \\\n0     6293408192  619517  13725  26 Nov 2021 07:30        51:19   \n1     6293396000  619513  13725  26 Nov 2021 07:22        50:51   \n2     6293297950  619485  13725  26 Nov 2021 06:15        46:52   \n3     6293285430  619481  13725  26 Nov 2021 06:07        40:59   \n4     6293248016  619467  13725  26 Nov 2021 05:43        39:09   \n...          ...     ...    ...                ...          ...   \n4995  4779722555  331595  10979  24 May 2019 03:48        29:54   \n4996  4779424867  331559  10979  24 May 2019 02:03        52:26   \n4997  4779407768  331560  10979  24 May 2019 01:56        42:48   \n4998  4779285288  331560  10979  24 May 2019 01:00        30:38   \n4999  4779285133  331559  10979  24 May 2019 01:03        35:09   \n\n     Duration (secs) Kills Score Unnamed: 7   Winner         Radiant Team  \\\n0               3079       32-30      32,30  Radiant            cybercats   \n1               3051       32-32      32,32     Dire                HYDRA   \n2               2812       14-36      14,36     Dire              Miaww^^   \n3               2459       32-34      32,34     Dire               YNGBLD   \n4               2349       34-16      34,16  Radiant            cybercats   \n...              ...         ...        ...      ...                  ...   \n4995            1794       25-13      25,13  Radiant    Ninjas in Pyjamas   \n4996            3146       29-33      29,33  Radiant    Ninjas in Pyjamas   \n4997            2568       55-29      55,29  Radiant             Alliance   \n4998            1838        7-29       7,29     Dire  Aachen City Esports   \n4999            2109       11-35      11,35     Dire      The Final Tribe   \n\n                                      Radiant Players            Dire Team  \\\n0          Airu, Petru44o, USHUSHUSH, Fezor, Shigetsu             V-Gaming   \n1               Zayac, Askold, Blizzy, Dream`, Le don            label bmd   \n2     Kidaro, nattynarwhal_, Antares, Ga1k, DarkLord^             V-Gaming   \n3            Otaker, xxx, Volshebnik, TheSpeedy, Fill            label bmd   \n4          Airu, Petru44o, USHUSHUSH, Fezor, Shigetsu        Legion Gaming   \n...                                               ...                  ...   \n4995                        33, Ppd, Fata, Ace, Saksa             Alliance   \n4996                        33, Ppd, Fata, Ace, Saksa      The Final Tribe   \n4997              INSaNiA, Boxi, Qojqva, MiCKe, Taiga  Aachen City Esports   \n4998           LeBronDota, DM, Ecnart, Funn1k, V-Tune             Alliance   \n4999             Handsken, Xibbe, Era, Frost, Chessie    Ninjas in Pyjamas   \n\n                                         Dire Players  \n0              Naive-, ArrOw, destroyed, antoha, HAze  \n1              myart, discay, fam0us, Nicky`Cool , ri  \n2              Naive-, ArrOw, destroyed, antoha, HAze  \n3              myart, discay, fam0us, Nicky`Cool , ri  \n4     baxadoto, kur0patbI4, Aliback, HardL, Overkill~  \n...                                               ...  \n4995              INSaNiA, Boxi, Qojqva, MiCKe, Taiga  \n4996             Handsken, Xibbe, Era, Frost, Chessie  \n4997           LeBronDota, DM, Ecnart, Funn1k, V-Tune  \n4998              INSaNiA, Boxi, Qojqva, MiCKe, Taiga  \n4999                        33, Ppd, Fata, Ace, Saksa  \n\n[5000 rows x 13 columns]",
      "text/html": "<div>\n<style scoped>\n    .dataframe tbody tr th:only-of-type {\n        vertical-align: middle;\n    }\n\n    .dataframe tbody tr th {\n        vertical-align: top;\n    }\n\n    .dataframe thead th {\n        text-align: right;\n    }\n</style>\n<table border=\"1\" class=\"dataframe\">\n  <thead>\n    <tr style=\"text-align: right;\">\n      <th></th>\n      <th>Match ID</th>\n      <th>Series</th>\n      <th>League</th>\n      <th>Start Date/Time</th>\n      <th>Match Length</th>\n      <th>Duration (secs)</th>\n      <th>Kills Score</th>\n      <th>Unnamed: 7</th>\n      <th>Winner</th>\n      <th>Radiant Team</th>\n      <th>Radiant Players</th>\n      <th>Dire Team</th>\n      <th>Dire Players</th>\n    </tr>\n  </thead>\n  <tbody>\n    <tr>\n      <th>0</th>\n      <td>6293408192</td>\n      <td>619517</td>\n      <td>13725</td>\n      <td>26 Nov 2021 07:30</td>\n      <td>51:19</td>\n      <td>3079</td>\n      <td>32-30</td>\n      <td>32,30</td>\n      <td>Radiant</td>\n      <td>cybercats</td>\n      <td>Airu, Petru44o, USHUSHUSH, Fezor, Shigetsu</td>\n      <td>V-Gaming</td>\n      <td>Naive-, ArrOw, destroyed, antoha, HAze</td>\n    </tr>\n    <tr>\n      <th>1</th>\n      <td>6293396000</td>\n      <td>619513</td>\n      <td>13725</td>\n      <td>26 Nov 2021 07:22</td>\n      <td>50:51</td>\n      <td>3051</td>\n      <td>32-32</td>\n      <td>32,32</td>\n      <td>Dire</td>\n      <td>HYDRA</td>\n      <td>Zayac, Askold, Blizzy, Dream`, Le don</td>\n      <td>label bmd</td>\n      <td>myart, discay, fam0us, Nicky`Cool , ri</td>\n    </tr>\n    <tr>\n      <th>2</th>\n      <td>6293297950</td>\n      <td>619485</td>\n      <td>13725</td>\n      <td>26 Nov 2021 06:15</td>\n      <td>46:52</td>\n      <td>2812</td>\n      <td>14-36</td>\n      <td>14,36</td>\n      <td>Dire</td>\n      <td>Miaww^^</td>\n      <td>Kidaro, nattynarwhal_, Antares, Ga1k, DarkLord^</td>\n      <td>V-Gaming</td>\n      <td>Naive-, ArrOw, destroyed, antoha, HAze</td>\n    </tr>\n    <tr>\n      <th>3</th>\n      <td>6293285430</td>\n      <td>619481</td>\n      <td>13725</td>\n      <td>26 Nov 2021 06:07</td>\n      <td>40:59</td>\n      <td>2459</td>\n      <td>32-34</td>\n      <td>32,34</td>\n      <td>Dire</td>\n      <td>YNGBLD</td>\n      <td>Otaker, xxx, Volshebnik, TheSpeedy, Fill</td>\n      <td>label bmd</td>\n      <td>myart, discay, fam0us, Nicky`Cool , ri</td>\n    </tr>\n    <tr>\n      <th>4</th>\n      <td>6293248016</td>\n      <td>619467</td>\n      <td>13725</td>\n      <td>26 Nov 2021 05:43</td>\n      <td>39:09</td>\n      <td>2349</td>\n      <td>34-16</td>\n      <td>34,16</td>\n      <td>Radiant</td>\n      <td>cybercats</td>\n      <td>Airu, Petru44o, USHUSHUSH, Fezor, Shigetsu</td>\n      <td>Legion Gaming</td>\n      <td>baxadoto, kur0patbI4, Aliback, HardL, Overkill~</td>\n    </tr>\n    <tr>\n      <th>...</th>\n      <td>...</td>\n      <td>...</td>\n      <td>...</td>\n      <td>...</td>\n      <td>...</td>\n      <td>...</td>\n      <td>...</td>\n      <td>...</td>\n      <td>...</td>\n      <td>...</td>\n      <td>...</td>\n      <td>...</td>\n      <td>...</td>\n    </tr>\n    <tr>\n      <th>4995</th>\n      <td>4779722555</td>\n      <td>331595</td>\n      <td>10979</td>\n      <td>24 May 2019 03:48</td>\n      <td>29:54</td>\n      <td>1794</td>\n      <td>25-13</td>\n      <td>25,13</td>\n      <td>Radiant</td>\n      <td>Ninjas in Pyjamas</td>\n      <td>33, Ppd, Fata, Ace, Saksa</td>\n      <td>Alliance</td>\n      <td>INSaNiA, Boxi, Qojqva, MiCKe, Taiga</td>\n    </tr>\n    <tr>\n      <th>4996</th>\n      <td>4779424867</td>\n      <td>331559</td>\n      <td>10979</td>\n      <td>24 May 2019 02:03</td>\n      <td>52:26</td>\n      <td>3146</td>\n      <td>29-33</td>\n      <td>29,33</td>\n      <td>Radiant</td>\n      <td>Ninjas in Pyjamas</td>\n      <td>33, Ppd, Fata, Ace, Saksa</td>\n      <td>The Final Tribe</td>\n      <td>Handsken, Xibbe, Era, Frost, Chessie</td>\n    </tr>\n    <tr>\n      <th>4997</th>\n      <td>4779407768</td>\n      <td>331560</td>\n      <td>10979</td>\n      <td>24 May 2019 01:56</td>\n      <td>42:48</td>\n      <td>2568</td>\n      <td>55-29</td>\n      <td>55,29</td>\n      <td>Radiant</td>\n      <td>Alliance</td>\n      <td>INSaNiA, Boxi, Qojqva, MiCKe, Taiga</td>\n      <td>Aachen City Esports</td>\n      <td>LeBronDota, DM, Ecnart, Funn1k, V-Tune</td>\n    </tr>\n    <tr>\n      <th>4998</th>\n      <td>4779285288</td>\n      <td>331560</td>\n      <td>10979</td>\n      <td>24 May 2019 01:00</td>\n      <td>30:38</td>\n      <td>1838</td>\n      <td>7-29</td>\n      <td>7,29</td>\n      <td>Dire</td>\n      <td>Aachen City Esports</td>\n      <td>LeBronDota, DM, Ecnart, Funn1k, V-Tune</td>\n      <td>Alliance</td>\n      <td>INSaNiA, Boxi, Qojqva, MiCKe, Taiga</td>\n    </tr>\n    <tr>\n      <th>4999</th>\n      <td>4779285133</td>\n      <td>331559</td>\n      <td>10979</td>\n      <td>24 May 2019 01:03</td>\n      <td>35:09</td>\n      <td>2109</td>\n      <td>11-35</td>\n      <td>11,35</td>\n      <td>Dire</td>\n      <td>The Final Tribe</td>\n      <td>Handsken, Xibbe, Era, Frost, Chessie</td>\n      <td>Ninjas in Pyjamas</td>\n      <td>33, Ppd, Fata, Ace, Saksa</td>\n    </tr>\n  </tbody>\n</table>\n<p>5000 rows × 13 columns</p>\n</div>"
     },
     "execution_count": 63,
     "metadata": {},
     "output_type": "execute_result"
    }
   ],
   "source": [
    "df_premium  = pd.read_parquet('dota_premium_minimal.parquet')\n",
    "df_premium"
   ],
   "metadata": {
    "collapsed": false,
    "pycharm": {
     "name": "#%%\n"
    }
   }
  },
  {
   "cell_type": "code",
   "execution_count": 81,
   "outputs": [
    {
     "data": {
      "text/plain": "                                            Dire Heroes  \\\n0     [ursa, disruptor, queenofpain, phoenix, rattle...   \n1         [weaver, shadowdemon, undying, lina, slardar]   \n2     [phantomlancer, disruptor, monkey_king, grimst...   \n3                 [ursa, wisp, weaver, lina, pangolier]   \n4     [weaver, shredder, darkwillow, magnataur, medusa]   \n...                                                 ...   \n1340  [juggernaut, voidspirit, shredder, lion, witch...   \n1341  [bloodseeker, mars, earthspirit, beastmaster, ...   \n1342  [necrolyte, skeletonking, tusk, ancientapparit...   \n1343  [lina, doombringer, juggernaut, grimstroke, ma...   \n1344  [phoenix, stormspirit, morphling, doombringer,...   \n\n                                           Dire Players    Match ID  \\\n0     [V-Tune, ALWAYSWANNAFLY, Iceberg, RodjER, Gene...  5857415725   \n1              [Naive-, ArrOw, antoha, HAze, destroyed]  6293408192   \n2              [ri, fam0us, myart, Nicky`Cool , discay]  6293396000   \n3              [Naive-, antoha, ArrOw, HAze, destroyed]  6293297950   \n4              [fam0us, Nicky`Cool , myart, discay, ri]  6293285430   \n...                                                 ...         ...   \n1340            [Nightfall, Gpk, DM, Save-, Kingslayer]  5961010983   \n1341   [Mingatte, Lissex, Zxca, J e i m a r i, Thugger]  5961000021   \n1342       [Chshrct, DyrachYO, Yamich, pantomem, Re1bl]  5960902003   \n1343   [Bignum, Fn, Palantimos, CemaTheSlayeR, Ghostik]  5960787505   \n1344   [CemaTheSlayeR, Fn, Palantimos, Ghostik, Bignum]  5960653562   \n\n                                         Radian Players  \\\n0               [Nightfall, Gpk, DM, Save-, Kingslayer]   \n1          [Shigetsu, Petru44o, Fezor, Airu, USHUSHUSH]   \n2               [Zayac, Blizzy, Le don, Dream`, Askold]   \n3     [Antares, Kidaro, Ga1k, nattynarwhal_, DarkLord^]   \n4            [Otaker, Volshebnik, xxx, TheSpeedy, Fill]   \n...                                                 ...   \n1340       [Dukalis, Desperate-, Krylat, MeLes, Astral]   \n1341                [Rises, Alone, Drakeel, Tano, Cara]   \n1342   [CemaTheSlayeR, Ghostik, Fn, Bignum, Palantimos]   \n1343       [DyrachYO, Re1bl, Chshrct, Yamich, pantomem]   \n1344       [DyrachYO, Re1bl, Chshrct, Yamich, pantomem]   \n\n                                         Radiant Heroes  \n0     [monkey_king, deathprophet, shredder, lion, or...  \n1     [facelessvoid, snapfire, jakiro, tidehunter, b...  \n2     [undying, dragonknight, weaver, terrorblade, i...  \n3     [techies, disruptor, tidehunter, windrunner, p...  \n4     [dawnbreaker, morphling, spiritbreaker, bane, ...  \n...                                                 ...  \n1340   [grimstroke, mars, skeletonking, batrider, tusk]  \n1341  [trollwarlord, leshrac, venomancer, nyxassassi...  \n1342  [grimstroke, abyssalunderlord, voidspirit, ear...  \n1343         [gyrocopter, puck, slardar, phoenix, tusk]  \n1344  [skeletonking, queenofpain, necrolyte, tusk, s...  \n\n[1345 rows x 5 columns]",
      "text/html": "<div>\n<style scoped>\n    .dataframe tbody tr th:only-of-type {\n        vertical-align: middle;\n    }\n\n    .dataframe tbody tr th {\n        vertical-align: top;\n    }\n\n    .dataframe thead th {\n        text-align: right;\n    }\n</style>\n<table border=\"1\" class=\"dataframe\">\n  <thead>\n    <tr style=\"text-align: right;\">\n      <th></th>\n      <th>Dire Heroes</th>\n      <th>Dire Players</th>\n      <th>Match ID</th>\n      <th>Radian Players</th>\n      <th>Radiant Heroes</th>\n    </tr>\n  </thead>\n  <tbody>\n    <tr>\n      <th>0</th>\n      <td>[ursa, disruptor, queenofpain, phoenix, rattle...</td>\n      <td>[V-Tune, ALWAYSWANNAFLY, Iceberg, RodjER, Gene...</td>\n      <td>5857415725</td>\n      <td>[Nightfall, Gpk, DM, Save-, Kingslayer]</td>\n      <td>[monkey_king, deathprophet, shredder, lion, or...</td>\n    </tr>\n    <tr>\n      <th>1</th>\n      <td>[weaver, shadowdemon, undying, lina, slardar]</td>\n      <td>[Naive-, ArrOw, antoha, HAze, destroyed]</td>\n      <td>6293408192</td>\n      <td>[Shigetsu, Petru44o, Fezor, Airu, USHUSHUSH]</td>\n      <td>[facelessvoid, snapfire, jakiro, tidehunter, b...</td>\n    </tr>\n    <tr>\n      <th>2</th>\n      <td>[phantomlancer, disruptor, monkey_king, grimst...</td>\n      <td>[ri, fam0us, myart, Nicky`Cool , discay]</td>\n      <td>6293396000</td>\n      <td>[Zayac, Blizzy, Le don, Dream`, Askold]</td>\n      <td>[undying, dragonknight, weaver, terrorblade, i...</td>\n    </tr>\n    <tr>\n      <th>3</th>\n      <td>[ursa, wisp, weaver, lina, pangolier]</td>\n      <td>[Naive-, antoha, ArrOw, HAze, destroyed]</td>\n      <td>6293297950</td>\n      <td>[Antares, Kidaro, Ga1k, nattynarwhal_, DarkLord^]</td>\n      <td>[techies, disruptor, tidehunter, windrunner, p...</td>\n    </tr>\n    <tr>\n      <th>4</th>\n      <td>[weaver, shredder, darkwillow, magnataur, medusa]</td>\n      <td>[fam0us, Nicky`Cool , myart, discay, ri]</td>\n      <td>6293285430</td>\n      <td>[Otaker, Volshebnik, xxx, TheSpeedy, Fill]</td>\n      <td>[dawnbreaker, morphling, spiritbreaker, bane, ...</td>\n    </tr>\n    <tr>\n      <th>...</th>\n      <td>...</td>\n      <td>...</td>\n      <td>...</td>\n      <td>...</td>\n      <td>...</td>\n    </tr>\n    <tr>\n      <th>1340</th>\n      <td>[juggernaut, voidspirit, shredder, lion, witch...</td>\n      <td>[Nightfall, Gpk, DM, Save-, Kingslayer]</td>\n      <td>5961010983</td>\n      <td>[Dukalis, Desperate-, Krylat, MeLes, Astral]</td>\n      <td>[grimstroke, mars, skeletonking, batrider, tusk]</td>\n    </tr>\n    <tr>\n      <th>1341</th>\n      <td>[bloodseeker, mars, earthspirit, beastmaster, ...</td>\n      <td>[Mingatte, Lissex, Zxca, J e i m a r i, Thugger]</td>\n      <td>5961000021</td>\n      <td>[Rises, Alone, Drakeel, Tano, Cara]</td>\n      <td>[trollwarlord, leshrac, venomancer, nyxassassi...</td>\n    </tr>\n    <tr>\n      <th>1342</th>\n      <td>[necrolyte, skeletonking, tusk, ancientapparit...</td>\n      <td>[Chshrct, DyrachYO, Yamich, pantomem, Re1bl]</td>\n      <td>5960902003</td>\n      <td>[CemaTheSlayeR, Ghostik, Fn, Bignum, Palantimos]</td>\n      <td>[grimstroke, abyssalunderlord, voidspirit, ear...</td>\n    </tr>\n    <tr>\n      <th>1343</th>\n      <td>[lina, doombringer, juggernaut, grimstroke, ma...</td>\n      <td>[Bignum, Fn, Palantimos, CemaTheSlayeR, Ghostik]</td>\n      <td>5960787505</td>\n      <td>[DyrachYO, Re1bl, Chshrct, Yamich, pantomem]</td>\n      <td>[gyrocopter, puck, slardar, phoenix, tusk]</td>\n    </tr>\n    <tr>\n      <th>1344</th>\n      <td>[phoenix, stormspirit, morphling, doombringer,...</td>\n      <td>[CemaTheSlayeR, Fn, Palantimos, Ghostik, Bignum]</td>\n      <td>5960653562</td>\n      <td>[DyrachYO, Re1bl, Chshrct, Yamich, pantomem]</td>\n      <td>[skeletonking, queenofpain, necrolyte, tusk, s...</td>\n    </tr>\n  </tbody>\n</table>\n<p>1345 rows × 5 columns</p>\n</div>"
     },
     "execution_count": 81,
     "metadata": {},
     "output_type": "execute_result"
    }
   ],
   "source": [
    "dota_premium_heroes_collected = pd.read_parquet(\"dota_premium_heroes.parquet\")\n",
    "dota_premium_heroes_collected"
   ],
   "metadata": {
    "collapsed": false,
    "pycharm": {
     "name": "#%%\n"
    }
   }
  },
  {
   "cell_type": "code",
   "execution_count": null,
   "outputs": [],
   "source": [
    "for match_id in df_premium['Match ID'].tolist():\n",
    "    if match_id not in dota_premium_heroes_collected['Match ID'].tolist():\n",
    "        url = \"https://www.datdota.com/api/matches/\" + match_id\n",
    "        response = requests.get(url)\n",
    "\n",
    "        json_dict = response.json()\n",
    "\n",
    "        radiant_players = []\n",
    "        radiant_heroes = []\n",
    "\n",
    "        dire_players = []\n",
    "        dire_heroes = []\n",
    "\n",
    "        match_id = json_dict['data']['match_id']\n",
    "\n",
    "        for player in json_dict['data']['radiant']['player_performances']:\n",
    "                radiant_players.append(player['player']['nickname'])\n",
    "                radiant_heroes.append(player['performance']['hero']['short_name'])\n",
    "\n",
    "        for player in json_dict['data']['dire']['player_performances']:\n",
    "            dire_players.append(player['player']['nickname'])\n",
    "            dire_heroes.append(player['performance']['hero']['short_name'])\n",
    "\n",
    "        d = {\"match\": {'Match ID': match_id,\n",
    "                       'Radian Players': radiant_players, 'Radiant Heroes': radiant_heroes,\n",
    "                       'Dire Players' : dire_players, 'Dire Heroes' : dire_heroes}\n",
    "             }\n",
    "        match_row = pd.DataFrame(data=d).transpose().reset_index(drop=True)\n",
    "        dota_premium_heroes = pd.read_parquet(\"dota_premium_heroes.parquet\")\n",
    "        dota_premium_heroes_2 = pd.concat([dota_premium_heroes, match_row], ignore_index=True)\n",
    "        dota_premium_heroes_2.to_parquet(\"dota_premium_heroes.parquet\")\n",
    "        time.sleep(2)"
   ],
   "metadata": {
    "collapsed": false,
    "pycharm": {
     "name": "#%%\n",
     "is_executing": true
    }
   }
  },
  {
   "cell_type": "code",
   "execution_count": 72,
   "outputs": [
    {
     "data": {
      "text/plain": "                                            Dire Heroes  \\\n0     [ursa, disruptor, queenofpain, phoenix, rattle...   \n1         [weaver, shadowdemon, undying, lina, slardar]   \n2     [phantomlancer, disruptor, monkey_king, grimst...   \n3                 [ursa, wisp, weaver, lina, pangolier]   \n4     [weaver, shredder, darkwillow, magnataur, medusa]   \n...                                                 ...   \n1340  [juggernaut, voidspirit, shredder, lion, witch...   \n1341  [bloodseeker, mars, earthspirit, beastmaster, ...   \n1342  [necrolyte, skeletonking, tusk, ancientapparit...   \n1343  [lina, doombringer, juggernaut, grimstroke, ma...   \n1344  [phoenix, stormspirit, morphling, doombringer,...   \n\n                                           Dire Players    Match ID  \\\n0     [V-Tune, ALWAYSWANNAFLY, Iceberg, RodjER, Gene...  5857415725   \n1              [Naive-, ArrOw, antoha, HAze, destroyed]  6293408192   \n2              [ri, fam0us, myart, Nicky`Cool , discay]  6293396000   \n3              [Naive-, antoha, ArrOw, HAze, destroyed]  6293297950   \n4              [fam0us, Nicky`Cool , myart, discay, ri]  6293285430   \n...                                                 ...         ...   \n1340            [Nightfall, Gpk, DM, Save-, Kingslayer]  5961010983   \n1341   [Mingatte, Lissex, Zxca, J e i m a r i, Thugger]  5961000021   \n1342       [Chshrct, DyrachYO, Yamich, pantomem, Re1bl]  5960902003   \n1343   [Bignum, Fn, Palantimos, CemaTheSlayeR, Ghostik]  5960787505   \n1344   [CemaTheSlayeR, Fn, Palantimos, Ghostik, Bignum]  5960653562   \n\n                                         Radian Players  \\\n0               [Nightfall, Gpk, DM, Save-, Kingslayer]   \n1          [Shigetsu, Petru44o, Fezor, Airu, USHUSHUSH]   \n2               [Zayac, Blizzy, Le don, Dream`, Askold]   \n3     [Antares, Kidaro, Ga1k, nattynarwhal_, DarkLord^]   \n4            [Otaker, Volshebnik, xxx, TheSpeedy, Fill]   \n...                                                 ...   \n1340       [Dukalis, Desperate-, Krylat, MeLes, Astral]   \n1341                [Rises, Alone, Drakeel, Tano, Cara]   \n1342   [CemaTheSlayeR, Ghostik, Fn, Bignum, Palantimos]   \n1343       [DyrachYO, Re1bl, Chshrct, Yamich, pantomem]   \n1344       [DyrachYO, Re1bl, Chshrct, Yamich, pantomem]   \n\n                                         Radiant Heroes  \n0     [monkey_king, deathprophet, shredder, lion, or...  \n1     [facelessvoid, snapfire, jakiro, tidehunter, b...  \n2     [undying, dragonknight, weaver, terrorblade, i...  \n3     [techies, disruptor, tidehunter, windrunner, p...  \n4     [dawnbreaker, morphling, spiritbreaker, bane, ...  \n...                                                 ...  \n1340   [grimstroke, mars, skeletonking, batrider, tusk]  \n1341  [trollwarlord, leshrac, venomancer, nyxassassi...  \n1342  [grimstroke, abyssalunderlord, voidspirit, ear...  \n1343         [gyrocopter, puck, slardar, phoenix, tusk]  \n1344  [skeletonking, queenofpain, necrolyte, tusk, s...  \n\n[1345 rows x 5 columns]",
      "text/html": "<div>\n<style scoped>\n    .dataframe tbody tr th:only-of-type {\n        vertical-align: middle;\n    }\n\n    .dataframe tbody tr th {\n        vertical-align: top;\n    }\n\n    .dataframe thead th {\n        text-align: right;\n    }\n</style>\n<table border=\"1\" class=\"dataframe\">\n  <thead>\n    <tr style=\"text-align: right;\">\n      <th></th>\n      <th>Dire Heroes</th>\n      <th>Dire Players</th>\n      <th>Match ID</th>\n      <th>Radian Players</th>\n      <th>Radiant Heroes</th>\n    </tr>\n  </thead>\n  <tbody>\n    <tr>\n      <th>0</th>\n      <td>[ursa, disruptor, queenofpain, phoenix, rattle...</td>\n      <td>[V-Tune, ALWAYSWANNAFLY, Iceberg, RodjER, Gene...</td>\n      <td>5857415725</td>\n      <td>[Nightfall, Gpk, DM, Save-, Kingslayer]</td>\n      <td>[monkey_king, deathprophet, shredder, lion, or...</td>\n    </tr>\n    <tr>\n      <th>1</th>\n      <td>[weaver, shadowdemon, undying, lina, slardar]</td>\n      <td>[Naive-, ArrOw, antoha, HAze, destroyed]</td>\n      <td>6293408192</td>\n      <td>[Shigetsu, Petru44o, Fezor, Airu, USHUSHUSH]</td>\n      <td>[facelessvoid, snapfire, jakiro, tidehunter, b...</td>\n    </tr>\n    <tr>\n      <th>2</th>\n      <td>[phantomlancer, disruptor, monkey_king, grimst...</td>\n      <td>[ri, fam0us, myart, Nicky`Cool , discay]</td>\n      <td>6293396000</td>\n      <td>[Zayac, Blizzy, Le don, Dream`, Askold]</td>\n      <td>[undying, dragonknight, weaver, terrorblade, i...</td>\n    </tr>\n    <tr>\n      <th>3</th>\n      <td>[ursa, wisp, weaver, lina, pangolier]</td>\n      <td>[Naive-, antoha, ArrOw, HAze, destroyed]</td>\n      <td>6293297950</td>\n      <td>[Antares, Kidaro, Ga1k, nattynarwhal_, DarkLord^]</td>\n      <td>[techies, disruptor, tidehunter, windrunner, p...</td>\n    </tr>\n    <tr>\n      <th>4</th>\n      <td>[weaver, shredder, darkwillow, magnataur, medusa]</td>\n      <td>[fam0us, Nicky`Cool , myart, discay, ri]</td>\n      <td>6293285430</td>\n      <td>[Otaker, Volshebnik, xxx, TheSpeedy, Fill]</td>\n      <td>[dawnbreaker, morphling, spiritbreaker, bane, ...</td>\n    </tr>\n    <tr>\n      <th>...</th>\n      <td>...</td>\n      <td>...</td>\n      <td>...</td>\n      <td>...</td>\n      <td>...</td>\n    </tr>\n    <tr>\n      <th>1340</th>\n      <td>[juggernaut, voidspirit, shredder, lion, witch...</td>\n      <td>[Nightfall, Gpk, DM, Save-, Kingslayer]</td>\n      <td>5961010983</td>\n      <td>[Dukalis, Desperate-, Krylat, MeLes, Astral]</td>\n      <td>[grimstroke, mars, skeletonking, batrider, tusk]</td>\n    </tr>\n    <tr>\n      <th>1341</th>\n      <td>[bloodseeker, mars, earthspirit, beastmaster, ...</td>\n      <td>[Mingatte, Lissex, Zxca, J e i m a r i, Thugger]</td>\n      <td>5961000021</td>\n      <td>[Rises, Alone, Drakeel, Tano, Cara]</td>\n      <td>[trollwarlord, leshrac, venomancer, nyxassassi...</td>\n    </tr>\n    <tr>\n      <th>1342</th>\n      <td>[necrolyte, skeletonking, tusk, ancientapparit...</td>\n      <td>[Chshrct, DyrachYO, Yamich, pantomem, Re1bl]</td>\n      <td>5960902003</td>\n      <td>[CemaTheSlayeR, Ghostik, Fn, Bignum, Palantimos]</td>\n      <td>[grimstroke, abyssalunderlord, voidspirit, ear...</td>\n    </tr>\n    <tr>\n      <th>1343</th>\n      <td>[lina, doombringer, juggernaut, grimstroke, ma...</td>\n      <td>[Bignum, Fn, Palantimos, CemaTheSlayeR, Ghostik]</td>\n      <td>5960787505</td>\n      <td>[DyrachYO, Re1bl, Chshrct, Yamich, pantomem]</td>\n      <td>[gyrocopter, puck, slardar, phoenix, tusk]</td>\n    </tr>\n    <tr>\n      <th>1344</th>\n      <td>[phoenix, stormspirit, morphling, doombringer,...</td>\n      <td>[CemaTheSlayeR, Fn, Palantimos, Ghostik, Bignum]</td>\n      <td>5960653562</td>\n      <td>[DyrachYO, Re1bl, Chshrct, Yamich, pantomem]</td>\n      <td>[skeletonking, queenofpain, necrolyte, tusk, s...</td>\n    </tr>\n  </tbody>\n</table>\n<p>1345 rows × 5 columns</p>\n</div>"
     },
     "execution_count": 72,
     "metadata": {},
     "output_type": "execute_result"
    }
   ],
   "source": [
    "dota_premium_heroes_collected = pd.read_parquet(\"dota_premium_heroes.parquet\")"
   ],
   "metadata": {
    "collapsed": false,
    "pycharm": {
     "name": "#%%\n"
    }
   }
  },
  {
   "cell_type": "code",
   "execution_count": 73,
   "outputs": [
    {
     "data": {
      "text/plain": "                                         Dire Heroes  \\\n0  [ursa, disruptor, queenofpain, phoenix, rattle...   \n\n                                        Dire Players    Match ID  \\\n0  [V-Tune, ALWAYSWANNAFLY, Iceberg, RodjER, Gene...  5857415725   \n\n                            Radian Players  \\\n0  [Nightfall, Gpk, DM, Save-, Kingslayer]   \n\n                                      Radiant Heroes  \n0  [monkey_king, deathprophet, shredder, lion, or...  ",
      "text/html": "<div>\n<style scoped>\n    .dataframe tbody tr th:only-of-type {\n        vertical-align: middle;\n    }\n\n    .dataframe tbody tr th {\n        vertical-align: top;\n    }\n\n    .dataframe thead th {\n        text-align: right;\n    }\n</style>\n<table border=\"1\" class=\"dataframe\">\n  <thead>\n    <tr style=\"text-align: right;\">\n      <th></th>\n      <th>Dire Heroes</th>\n      <th>Dire Players</th>\n      <th>Match ID</th>\n      <th>Radian Players</th>\n      <th>Radiant Heroes</th>\n    </tr>\n  </thead>\n  <tbody>\n    <tr>\n      <th>0</th>\n      <td>[ursa, disruptor, queenofpain, phoenix, rattle...</td>\n      <td>[V-Tune, ALWAYSWANNAFLY, Iceberg, RodjER, Gene...</td>\n      <td>5857415725</td>\n      <td>[Nightfall, Gpk, DM, Save-, Kingslayer]</td>\n      <td>[monkey_king, deathprophet, shredder, lion, or...</td>\n    </tr>\n  </tbody>\n</table>\n</div>"
     },
     "execution_count": 73,
     "metadata": {},
     "output_type": "execute_result"
    }
   ],
   "source": [
    "df_professional = pd.read_parquet('dota_professional_heroes.parquet')\n",
    "df_professional"
   ],
   "metadata": {
    "collapsed": false,
    "pycharm": {
     "name": "#%%\n"
    }
   }
  },
  {
   "cell_type": "code",
   "execution_count": null,
   "outputs": [],
   "source": [
    "for match_id in df_professional['Match ID'].tolist():\n",
    "    url = \"https://www.datdota.com/api/matches/\" + match_id\n",
    "    response = requests.get(url)\n",
    "    json_dict = response.json()\n",
    "\n",
    "    radiant_players = []\n",
    "    radiant_heroes = []\n",
    "\n",
    "    dire_players = []\n",
    "    dire_heroes = []\n",
    "\n",
    "    match_id = json_dict['data']['match_id']\n",
    "\n",
    "    for player in json_dict['data']['radiant']['player_performances']:\n",
    "        radiant_players.append(player['player']['nickname'])\n",
    "        radiant_heroes.append(player['performance']['hero']['short_name'])\n",
    "\n",
    "    for player in json_dict['data']['dire']['player_performances']:\n",
    "        dire_players.append(player['player']['nickname'])\n",
    "        dire_heroes.append(player['performance']['hero']['short_name'])\n",
    "\n",
    "    d = {\"match\": {'Match ID': match_id,\n",
    "                       'Radian Players': radiant_players, 'Radiant Heroes': radiant_heroes,\n",
    "                       'Dire Players' : dire_players, 'Dire Heroes' : dire_heroes}\n",
    "             }\n",
    "    match_row = pd.DataFrame(data=d).transpose().reset_index(drop=True)\n",
    "    dota_professional_heroes = pd.read_parquet(\"dota_professional_heroes.parquet\")\n",
    "    dota_professional_heroes2 = pd.concat([dota_professional_heroes, match_row], ignore_index=True)\n",
    "    dota_professional_heroes2.to_parquet(\"dota_professional_heroes.parquet\")\n",
    "    time.sleep(1)"
   ],
   "metadata": {
    "collapsed": false,
    "pycharm": {
     "name": "#%%\n"
    }
   }
  },
  {
   "cell_type": "code",
   "execution_count": null,
   "outputs": [],
   "source": [
    "date_list = [\n",
    "        '10%2F12%2F2020\"&before=20%2F12%2F2020',\n",
    "        '01%2F12%2F2020\"&before=10%2F12%2F2020',\n",
    "        '20%2F11%2F2020\"&before=01%2F12%2F2020',\n",
    "\n",
    "'10%2F11%2F2020\"&before=20%2F11%2F2020',\n",
    "'01%2F11%2F2020\"&before=10%2F11%2F2020',\n",
    "'20%2F10%2F2020\"&before=01%2F11%2F2020',\n",
    "'10%2F10%2F2020\"&before=20%2F10%2F2020',\n",
    "'01%2F10%2F2020\"&before=10%2F10%2F2020',\n",
    "'20%2F09%2F2020\"&before=01%2F10%2F2020',\n",
    "'10%2F09%2F2020\"&before=20%2F09%2F2020',\n",
    "'01%2F09%2F2020\"&before=10%2F09%2F2020',\n",
    "'20%2F08%2F2020\"&before=01%2F09%2F2020',\n",
    "'10%2F08%2F2020\"&before=20%2F08%2F2020',\n",
    "'01%2F08%2F2020\"&before=10%2F08%2F2020',\n",
    "'20%2F07%2F2020\"&before=01%2F08%2F2020',\n",
    "'10%2F07%2F2020\"&before=20%2F07%2F2020',\n",
    "'01%2F07%2F2020\"&before=10%2F07%2F2020',\n",
    "'20%2F06%2F2020\"&before=01%2F07%2F2020',\n",
    "    ]"
   ],
   "metadata": {
    "collapsed": false,
    "pycharm": {
     "name": "#%%\n",
     "is_executing": true
    }
   }
  },
  {
   "cell_type": "code",
   "execution_count": 115,
   "outputs": [],
   "source": [
    "for date_list_one in date_list:\n",
    "    URL = \"http://datdota.com/players/single-performance?patch=7.30&patch=7.29&patch=7.28&patch=7.27&patch=7.26&patch=7.25&patch=7.24&patch=7.23&patch=7.22&patch=7.21&patch=7.20&patch=7.19&patch=7.18&patch=7.17&patch=7.16&patch=7.15&patch=7.14&patch=7.13&patch=7.12&patch=7.11&patch=7.10&patch=7.09&patch=7.08&patch=7.07&patch=7.06&patch=7.05&patch=7.04&patch=7.03&patch=7.02&patch=7.01&patch=7.00&patch=6.88&patch=6.87&patch=6.86&patch=6.85&patch=6.84&patch=6.83&patch=6.82&patch=6.81&patch=6.80&patch=6.79&patch=6.78&patch=6.77&patch=6.76&patch=6.75&patch=6.74&after=\"+date_list_one+\"&duration=0%3B200&duration-value-from=0&duration-value-to=200&tier=1&tier=2&valve-event=does-not-matter\"\n",
    "    page = requests.get(URL)\n",
    "\n",
    "    soup = BeautifulSoup(page.content, \"html.parser\")\n",
    "\n",
    "    data = []\n",
    "    table = soup.find('table')\n",
    "    table_body = table.find('tbody')\n",
    "    rows = table_body.find_all('tr')\n",
    "    for row in rows:\n",
    "        cols = row.find_all('td')\n",
    "        cols = [ele.text.strip() for ele in cols]\n",
    "        data.append([ele for ele in cols if ele]) # Get rid of empty values\n",
    "\n",
    "    match_small = pd.DataFrame(data, columns=[\"Match ID\", \"Hero\", \"Player\", \"Result\", \"Kills\", \"Deaths\", \"Assists\", \"KDA\"\t, \"GPM\"\t, \"XPM\"\t, \"Last Hits\", \"Denies\", \t\"LVL\",\t\"HD\",\t\"TD\", \"HH\", \"GS\",\t\"End Game Items\"])\n",
    "\n",
    "    dota_matches = pd.read_parquet(\"dota_matches.parquet\")\n",
    "    dota_matches2 = pd.concat([dota_matches, match_small], ignore_index=True)\n",
    "    dota_matches2.to_parquet(\"dota_matches.parquet\")\n",
    "\n",
    "    time.sleep(5)"
   ],
   "metadata": {
    "collapsed": false,
    "pycharm": {
     "name": "#%%\n"
    }
   }
  },
  {
   "cell_type": "code",
   "execution_count": 116,
   "outputs": [
    {
     "data": {
      "text/plain": "         Match ID              Hero       Player Result Kills Deaths Assists  \\\n0      6068802013  Treant Protector  Bloody Nine   Loss     2     12      15   \n1      6068802013           Spectre  EternaLEnVy    Win     7      3      19   \n2      6068802013      Nyx Assassin       Zfreek    Win     1      8      16   \n3      6068802013             Viper       Kingrd    Win    11      5      16   \n4      6068802013     Dragon Knight        Ryoya    Win    14      2      12   \n...           ...               ...          ...    ...   ...    ...     ...   \n68785  5478856026              Ursa        汤 达 人   Loss     8      5       6   \n68786  5478856026       Void Spirit         Piao   Loss     8      5      11   \n68787  5478856026            Enigma       InJuly   Loss     3      9      12   \n68788  5478856026            Rubick     Moriarty   Loss     2     13      15   \n68789  5478856026            Jakiro         DoDo   Loss     6      6      15   \n\n         KDA  GPM  XPM Last Hits Denies LVL     HD     TD    HH     GS  \\\n0       1.42  218  370        33      3  19  11344      0  6519   9160   \n1       8.67  726  848       415      8  28  39394   8196     0  27895   \n2       2.12  271  459        40     11  21  11495      0     0  11015   \n3       5.40  605  690       317     15  26  33891  12563     0  23305   \n4      13.00  699  841       415     14  28  27447  18586   592  30140   \n...      ...  ...  ...       ...    ...  ..    ...    ...   ...    ...   \n68785   2.80  553  623       310      4  22  17412    266     0  18820   \n68786   3.80  419  610       163     14  21  24758    354     0  12735   \n68787   1.67  409  396       226     24  17  19917   1773  3123  13145   \n68788   1.31  234  313        66      7  14  12500      0     0   7130   \n68789   3.50  247  503        22      2  19  16557    152   400   8090   \n\n                                          End Game Items  \n0      Tranquil Boots\\nGlimmer Cape\\nHoly Locket\\nObs...  \n1      Manta Style\\nHood of Defiance\\nPower Treads\\nE...  \n2      Aghanim's Scepter\\nDust of Appearance\\nTranqui...  \n3      Hurricane Pike\\nMagic Wand\\nBlack King Bar\\nBo...  \n4      Overwhelming Blink\\nBlack King Bar\\nBloodthorn...  \n...                                                  ...  \n68785  Magic Wand\\nPower Treads\\nAbyssal Blade\\nBlack...  \n68786  Phase Boots\\nEul's Scepter of Divinity\\nOgre A...  \n68787  Black King Bar\\nNecronomicon 1\\nMagic Stick\\nG...  \n68788  Tranquil Boots\\nMagic Wand\\nGlimmer Cape\\nAeth...  \n68789  Force Staff\\nHealing Salve\\nSmoke of Deceit\\nM...  \n\n[68790 rows x 18 columns]",
      "text/html": "<div>\n<style scoped>\n    .dataframe tbody tr th:only-of-type {\n        vertical-align: middle;\n    }\n\n    .dataframe tbody tr th {\n        vertical-align: top;\n    }\n\n    .dataframe thead th {\n        text-align: right;\n    }\n</style>\n<table border=\"1\" class=\"dataframe\">\n  <thead>\n    <tr style=\"text-align: right;\">\n      <th></th>\n      <th>Match ID</th>\n      <th>Hero</th>\n      <th>Player</th>\n      <th>Result</th>\n      <th>Kills</th>\n      <th>Deaths</th>\n      <th>Assists</th>\n      <th>KDA</th>\n      <th>GPM</th>\n      <th>XPM</th>\n      <th>Last Hits</th>\n      <th>Denies</th>\n      <th>LVL</th>\n      <th>HD</th>\n      <th>TD</th>\n      <th>HH</th>\n      <th>GS</th>\n      <th>End Game Items</th>\n    </tr>\n  </thead>\n  <tbody>\n    <tr>\n      <th>0</th>\n      <td>6068802013</td>\n      <td>Treant Protector</td>\n      <td>Bloody Nine</td>\n      <td>Loss</td>\n      <td>2</td>\n      <td>12</td>\n      <td>15</td>\n      <td>1.42</td>\n      <td>218</td>\n      <td>370</td>\n      <td>33</td>\n      <td>3</td>\n      <td>19</td>\n      <td>11344</td>\n      <td>0</td>\n      <td>6519</td>\n      <td>9160</td>\n      <td>Tranquil Boots\\nGlimmer Cape\\nHoly Locket\\nObs...</td>\n    </tr>\n    <tr>\n      <th>1</th>\n      <td>6068802013</td>\n      <td>Spectre</td>\n      <td>EternaLEnVy</td>\n      <td>Win</td>\n      <td>7</td>\n      <td>3</td>\n      <td>19</td>\n      <td>8.67</td>\n      <td>726</td>\n      <td>848</td>\n      <td>415</td>\n      <td>8</td>\n      <td>28</td>\n      <td>39394</td>\n      <td>8196</td>\n      <td>0</td>\n      <td>27895</td>\n      <td>Manta Style\\nHood of Defiance\\nPower Treads\\nE...</td>\n    </tr>\n    <tr>\n      <th>2</th>\n      <td>6068802013</td>\n      <td>Nyx Assassin</td>\n      <td>Zfreek</td>\n      <td>Win</td>\n      <td>1</td>\n      <td>8</td>\n      <td>16</td>\n      <td>2.12</td>\n      <td>271</td>\n      <td>459</td>\n      <td>40</td>\n      <td>11</td>\n      <td>21</td>\n      <td>11495</td>\n      <td>0</td>\n      <td>0</td>\n      <td>11015</td>\n      <td>Aghanim's Scepter\\nDust of Appearance\\nTranqui...</td>\n    </tr>\n    <tr>\n      <th>3</th>\n      <td>6068802013</td>\n      <td>Viper</td>\n      <td>Kingrd</td>\n      <td>Win</td>\n      <td>11</td>\n      <td>5</td>\n      <td>16</td>\n      <td>5.40</td>\n      <td>605</td>\n      <td>690</td>\n      <td>317</td>\n      <td>15</td>\n      <td>26</td>\n      <td>33891</td>\n      <td>12563</td>\n      <td>0</td>\n      <td>23305</td>\n      <td>Hurricane Pike\\nMagic Wand\\nBlack King Bar\\nBo...</td>\n    </tr>\n    <tr>\n      <th>4</th>\n      <td>6068802013</td>\n      <td>Dragon Knight</td>\n      <td>Ryoya</td>\n      <td>Win</td>\n      <td>14</td>\n      <td>2</td>\n      <td>12</td>\n      <td>13.00</td>\n      <td>699</td>\n      <td>841</td>\n      <td>415</td>\n      <td>14</td>\n      <td>28</td>\n      <td>27447</td>\n      <td>18586</td>\n      <td>592</td>\n      <td>30140</td>\n      <td>Overwhelming Blink\\nBlack King Bar\\nBloodthorn...</td>\n    </tr>\n    <tr>\n      <th>...</th>\n      <td>...</td>\n      <td>...</td>\n      <td>...</td>\n      <td>...</td>\n      <td>...</td>\n      <td>...</td>\n      <td>...</td>\n      <td>...</td>\n      <td>...</td>\n      <td>...</td>\n      <td>...</td>\n      <td>...</td>\n      <td>...</td>\n      <td>...</td>\n      <td>...</td>\n      <td>...</td>\n      <td>...</td>\n      <td>...</td>\n    </tr>\n    <tr>\n      <th>68785</th>\n      <td>5478856026</td>\n      <td>Ursa</td>\n      <td>汤 达 人</td>\n      <td>Loss</td>\n      <td>8</td>\n      <td>5</td>\n      <td>6</td>\n      <td>2.80</td>\n      <td>553</td>\n      <td>623</td>\n      <td>310</td>\n      <td>4</td>\n      <td>22</td>\n      <td>17412</td>\n      <td>266</td>\n      <td>0</td>\n      <td>18820</td>\n      <td>Magic Wand\\nPower Treads\\nAbyssal Blade\\nBlack...</td>\n    </tr>\n    <tr>\n      <th>68786</th>\n      <td>5478856026</td>\n      <td>Void Spirit</td>\n      <td>Piao</td>\n      <td>Loss</td>\n      <td>8</td>\n      <td>5</td>\n      <td>11</td>\n      <td>3.80</td>\n      <td>419</td>\n      <td>610</td>\n      <td>163</td>\n      <td>14</td>\n      <td>21</td>\n      <td>24758</td>\n      <td>354</td>\n      <td>0</td>\n      <td>12735</td>\n      <td>Phase Boots\\nEul's Scepter of Divinity\\nOgre A...</td>\n    </tr>\n    <tr>\n      <th>68787</th>\n      <td>5478856026</td>\n      <td>Enigma</td>\n      <td>InJuly</td>\n      <td>Loss</td>\n      <td>3</td>\n      <td>9</td>\n      <td>12</td>\n      <td>1.67</td>\n      <td>409</td>\n      <td>396</td>\n      <td>226</td>\n      <td>24</td>\n      <td>17</td>\n      <td>19917</td>\n      <td>1773</td>\n      <td>3123</td>\n      <td>13145</td>\n      <td>Black King Bar\\nNecronomicon 1\\nMagic Stick\\nG...</td>\n    </tr>\n    <tr>\n      <th>68788</th>\n      <td>5478856026</td>\n      <td>Rubick</td>\n      <td>Moriarty</td>\n      <td>Loss</td>\n      <td>2</td>\n      <td>13</td>\n      <td>15</td>\n      <td>1.31</td>\n      <td>234</td>\n      <td>313</td>\n      <td>66</td>\n      <td>7</td>\n      <td>14</td>\n      <td>12500</td>\n      <td>0</td>\n      <td>0</td>\n      <td>7130</td>\n      <td>Tranquil Boots\\nMagic Wand\\nGlimmer Cape\\nAeth...</td>\n    </tr>\n    <tr>\n      <th>68789</th>\n      <td>5478856026</td>\n      <td>Jakiro</td>\n      <td>DoDo</td>\n      <td>Loss</td>\n      <td>6</td>\n      <td>6</td>\n      <td>15</td>\n      <td>3.50</td>\n      <td>247</td>\n      <td>503</td>\n      <td>22</td>\n      <td>2</td>\n      <td>19</td>\n      <td>16557</td>\n      <td>152</td>\n      <td>400</td>\n      <td>8090</td>\n      <td>Force Staff\\nHealing Salve\\nSmoke of Deceit\\nM...</td>\n    </tr>\n  </tbody>\n</table>\n<p>68790 rows × 18 columns</p>\n</div>"
     },
     "execution_count": 116,
     "metadata": {},
     "output_type": "execute_result"
    }
   ],
   "source": [
    "dota_matches = pd.read_parquet(\"dota_matches.parquet\")\n",
    "dota_matches"
   ],
   "metadata": {
    "collapsed": false,
    "pycharm": {
     "name": "#%%\n"
    }
   }
  },
  {
   "cell_type": "code",
   "execution_count": 117,
   "outputs": [
    {
     "data": {
      "text/plain": "'5478856026'"
     },
     "execution_count": 117,
     "metadata": {},
     "output_type": "execute_result"
    }
   ],
   "source": [
    "dota_matches['Match ID'].min()"
   ],
   "metadata": {
    "collapsed": false,
    "pycharm": {
     "name": "#%%\n"
    }
   }
  },
  {
   "cell_type": "code",
   "execution_count": 118,
   "outputs": [
    {
     "data": {
      "text/plain": "'6068802013'"
     },
     "execution_count": 118,
     "metadata": {},
     "output_type": "execute_result"
    }
   ],
   "source": [
    "dota_matches['Match ID'].max()"
   ],
   "metadata": {
    "collapsed": false,
    "pycharm": {
     "name": "#%%\n"
    }
   }
  },
  {
   "cell_type": "code",
   "execution_count": 121,
   "outputs": [
    {
     "data": {
      "text/plain": "6879.0"
     },
     "execution_count": 121,
     "metadata": {},
     "output_type": "execute_result"
    }
   ],
   "source": [
    "len(dota_matches['Match ID'])/10"
   ],
   "metadata": {
    "collapsed": false,
    "pycharm": {
     "name": "#%%\n"
    }
   }
  }
 ],
 "metadata": {
  "kernelspec": {
   "display_name": "Python 3",
   "language": "python",
   "name": "python3"
  },
  "language_info": {
   "codemirror_mode": {
    "name": "ipython",
    "version": 2
   },
   "file_extension": ".py",
   "mimetype": "text/x-python",
   "name": "python",
   "nbconvert_exporter": "python",
   "pygments_lexer": "ipython2",
   "version": "2.7.6"
  }
 },
 "nbformat": 4,
 "nbformat_minor": 0
}